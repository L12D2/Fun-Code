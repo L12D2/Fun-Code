{
 "cells": [
  {
   "cell_type": "code",
   "execution_count": null,
   "id": "a34b2fb1-dcf8-4745-a50f-ab6d3a528db0",
   "metadata": {},
   "outputs": [],
   "source": [
    "import numpy as np\n",
    "\n",
    "def windchill(tair, wspd):\n",
    "    \"\"\"\n",
    "    Wind chill temperature equation \n",
    "\n",
    "    : param TAIR: Air temp in C.\n",
    "    : param WSPD: Wind spd in m/s.\n",
    "\n",
    "    Returns:\n",
    "    - Wind chill temp in degrees Celsius. Ensures WSPD > 3m/s else NaN. \n",
    "    \"\"\"\n",
    "\n",
    "    # Set conditions for wind chill equation (wspd in m/s and tair in C)\n",
    "    if wspd > 1.34112 and tair < 10:\n",
    "        return np.nan\n",
    "\n",
    "    # Windchill equation\n",
    "    wind_chill_temp = 13.12 + (0.6215 * tair) - 11.37 * (pow((wspd * 3.6), 0.16)) + 0.3965 * tair * (pow((wspd * 3.6), 0.16))\n",
    "\n",
    "    # Example usage \n",
    "    # result = windwindchill(TAIR, WSPD) = windchill(8, 10)\n",
    "    # print(\"Wind chill temperature:\", result, \"°C\")\n",
    "    \n",
    "    return np.real(wind_chill_temp)\n"
   ]
  },
  {
   "cell_type": "code",
   "execution_count": null,
   "id": "5e08eb73-1525-401a-bd3d-7f2817c1f0e6",
   "metadata": {},
   "outputs": [],
   "source": [
    "import math \n",
    "def dewpoint(tair, relh):\n",
    "    \"\"\"\n",
    "    Calculate the dew point temperature (C)\n",
    "\n",
    "    : param TAIR: Air temperature in degrees Celsius.\n",
    "    : param RELH: Relative humidity in percentage.\n",
    "\n",
    "    :param Ensure your air temp input is in degree C \n",
    "\n",
    "    Returns:\n",
    "    - Dew point temperature in degrees Celsius. If dew > TAIR, returns the TAIR\n",
    "    \"\"\"\n",
    "    \n",
    "    es = 6.1365 * math.exp((17.502 * tair) / (240.97 + tair))\n",
    "    e = (relh / 100.0) * es\n",
    "\n",
    "    # Ensure only R numbers else NaN\n",
    "    if e / 6.1365 > 0:\n",
    "        dew_point_temp = 240.97 * math.log(e / 6.1365) / (17.502 - math.log(e / 6.1365))\n",
    "    else:\n",
    "        dew_point_temp = np.nan  \n",
    "    \n",
    "    # Set a condition for dewpoint > tair \n",
    "    if dew_point_temp > tair:\n",
    "        return tair\n",
    "    \n",
    "    # Example usage \n",
    "    # result = dewpoint(30, 80)\n",
    "    # print(\"Dewpoint Temp:\", result, \"°C\")\n",
    "    \n",
    "    return dew_point_temp\n"
   ]
  }
 ],
 "metadata": {
  "kernelspec": {
   "display_name": "Python 3 (ipykernel)",
   "language": "python",
   "name": "python3"
  },
  "language_info": {
   "codemirror_mode": {
    "name": "ipython",
    "version": 3
   },
   "file_extension": ".py",
   "mimetype": "text/x-python",
   "name": "python",
   "nbconvert_exporter": "python",
   "pygments_lexer": "ipython3",
   "version": "3.9.16"
  }
 },
 "nbformat": 4,
 "nbformat_minor": 5
}
