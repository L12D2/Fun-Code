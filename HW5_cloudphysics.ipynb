{
 "cells": [
  {
   "cell_type": "code",
   "execution_count": 2,
   "id": "22749775-14a6-4ce9-91d4-81d4d4f9aff6",
   "metadata": {},
   "outputs": [],
   "source": [
    "import pandas as pd\n",
    "import numpy as np\n",
    "import math"
   ]
  },
  {
   "cell_type": "code",
   "execution_count": 3,
   "id": "3739caaf-8aec-459e-a011-804538b93082",
   "metadata": {},
   "outputs": [
    {
     "name": "stdout",
     "output_type": "stream",
     "text": [
      "A) LWC for maritime: 0.8503244115716374 [g/m^3]\n",
      "A) LWC for continental: 0.7649154292637406 [g/m^3] \n",
      "\n",
      "B) # concentration maritime: 74 [#/cm^3]\n",
      "B) # concentration continental: 496 [#/cm^3] \n",
      "\n",
      "C) mean diameter maritime: 25.675675675675677 [micrometers]\n",
      "C) mean diameter continental: 13.712197580645162 [micrometers] \n",
      "\n",
      "D) mass weighted mean diameter maritime: 31.613300492610836 [micrometers]\n",
      "D) mass weighted mean diameter continental: 15.307379898418521 [micrometers]\n"
     ]
    }
   ],
   "source": [
    "num_conc_mar = [9, 21, 37, 7] # #/cm^3\n",
    "d_l_mar = [10, 20, 30, 40] # um \n",
    "\n",
    "num_conc_con = [66, 193, 220, 17] # #/cm^3\n",
    "d_l_con = [7.5, 12.5, 16.25, 18.75] # um \n",
    "\n",
    "# A) LWC\n",
    "def lwc(d_l, num_conc, rho = 1000):\n",
    "    lwc = (math.pi / 6) * 1000 * rho * (((d_l**3) / 10**18) * (10**6 * num_conc))\n",
    "    return(lwc)\n",
    "# kg / m^3 * um^3 * # * cm^-3 --> 1000g * kg/(g * m^3) * 1 m^3 / (10^6)^-3 um * 10^6 cm^3 / m^3 = g/m^3\n",
    "\n",
    "mar_lwc_bin = []\n",
    "con_lwc_bin = []\n",
    "\n",
    "for d_l, n_conc in zip(d_l_mar, num_conc_mar):\n",
    "    mar_lwc_bin.append(lwc(d_l, n_conc))\n",
    "    final_mar = sum(mar_lwc_bin)\n",
    "\n",
    "for con_d_l, conc_n_con in zip(d_l_con, num_conc_con):\n",
    "    con_lwc_bin.append(lwc(con_d_l, conc_n_con))\n",
    "    final_con = sum(con_lwc_bin)\n",
    "    \n",
    "print(\"A) LWC for maritime:\", final_mar, \"[g/m^3]\")\n",
    "print(\"A) LWC for continental:\", final_con, \"[g/m^3]\", \"\\n\")\n",
    "\n",
    "# B) num conc land \n",
    "print(\"B) # concentration maritime:\", sum(num_conc_mar), \"[#/cm^3]\")\n",
    "\n",
    "# B) num conc land \n",
    "print(\"B) # concentration continental:\", sum(num_conc_con), \"[#/cm^3] \\n\")\n",
    "\n",
    "# C) mean diameter \n",
    "print(\"C) mean diameter maritime:\", sum(np.multiply(num_conc_mar, d_l_mar)) / sum(num_conc_mar), \"[micrometers]\")\n",
    "print(\"C) mean diameter continental:\", sum(np.multiply(num_conc_con, d_l_con)) / sum(num_conc_con),\"[micrometers]\", \"\\n\")\n",
    "\n",
    "# D) mass weighted mean diameter \n",
    "\n",
    "def mwmd_mar(dl, num_conc):\n",
    "    mwmd_num = sum((dl**4) * num_conc for dl, num_conc in zip(d_l_mar, num_conc_mar))\n",
    "    mwmd_den = sum((dl**3) * num_conc for dl, num_conc in zip(d_l_mar, num_conc_mar))\n",
    "    mwmd_complete = mwmd_num / mwmd_den \n",
    "    return(mwmd_complete)\n",
    "    \n",
    "def mwmd_con(dl, num_conc):\n",
    "    mwmd_num = sum((dl**4) * num_conc for dl, num_conc in zip(d_l_con, num_conc_con))\n",
    "    mwmd_den = sum((dl**3) * num_conc for dl, num_conc in zip(d_l_con, num_conc_con))\n",
    "    mwmd_complete = mwmd_num / mwmd_den \n",
    "    return(mwmd_complete)    \n",
    "    \n",
    "print(\"D) mass weighted mean diameter maritime:\", mwmd_mar(d_l_mar, num_conc_mar), \"[micrometers]\")\n",
    "print(\"D) mass weighted mean diameter continental:\", mwmd_con(d_l_con, num_conc_con), \"[micrometers]\")\n"
   ]
  },
  {
   "cell_type": "code",
   "execution_count": null,
   "id": "87408863-25bf-45f2-ac32-78272398a456",
   "metadata": {},
   "outputs": [],
   "source": []
  }
 ],
 "metadata": {
  "kernelspec": {
   "display_name": "Python 3 (ipykernel)",
   "language": "python",
   "name": "python3"
  },
  "language_info": {
   "codemirror_mode": {
    "name": "ipython",
    "version": 3
   },
   "file_extension": ".py",
   "mimetype": "text/x-python",
   "name": "python",
   "nbconvert_exporter": "python",
   "pygments_lexer": "ipython3",
   "version": "3.11.6"
  }
 },
 "nbformat": 4,
 "nbformat_minor": 5
}
