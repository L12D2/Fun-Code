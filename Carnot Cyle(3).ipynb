{
 "cells": [
  {
   "cell_type": "markdown",
   "id": "7479fe32-b616-47d4-860c-8ac10540da2a",
   "metadata": {},
   "source": []
  },
  {
   "cell_type": "code",
   "execution_count": 1,
   "id": "f80ed4b1-d2c8-4dda-a1f2-0c377fb7ca2d",
   "metadata": {},
   "outputs": [
    {
     "name": "stdout",
     "output_type": "stream",
     "text": [
      "dq = 0\n",
      "A) There are -17937.50 Joules/kg of work done\n",
      "dq = dw\n",
      "B) There are 13011.44 Joules/kg of work done and heat energy added.\n",
      "dq = 0\n",
      "C) There are 17937.50 Joules/kg of work done.\n",
      "dq = dw\n",
      "D) There are -11920.43 Joules/kg of work done and heat energy added.\n",
      "\n",
      "E) The cycle had a net work of 1091.01 Joules/kg.\n",
      "E) The cycle had a net heat of 1091.01 Joules/kg.\n",
      "\n",
      "F) This cycle has an efficiency of 8.39%.\n"
     ]
    }
   ],
   "source": [
    "\"\"\"\n",
    "@Authors: Matthew Davies, Jonathan Douglas, Justan Ray Liam Thompson \n",
    "@Version: 2.1.1\n",
    "\"\"\"\n",
    "\n",
    "# Import appropriate Libraries \n",
    "import math \n",
    "\n",
    "# Define the functions that would be used to solve any carnot cycle \n",
    "def work_adiabatic(pf, pi, af, ai): \n",
    "    \"\"\"\n",
    "    work_adiabatic finds the work during an adiabatic gas process using a starting and final pressure and specific volume\n",
    "\n",
    "    :param pf: The final pressure in pascals.\n",
    "    :param pi: The initial pressure in pascals.\n",
    "    :param af: The final specific volume in m^3/kg\n",
    "    :param ai: The initial specific volume in m^3/kg\n",
    "\n",
    "    :return: The work done by/on the parcel in Joules/kg.\n",
    "    \"\"\" \n",
    "    gamma = 1.4 \n",
    "    print(\"dq = 0\")\n",
    "    return (pf*af - pi*ai) / (1 - gamma) \n",
    "    \n",
    "def work_isothermal(ti, af, ai):\n",
    "    \"\"\"\n",
    "    work_isothermal finds the work during an isothermal gas process using a starting and final pressure and specific volume\n",
    "\n",
    "    :param ti: The initial temperature in Kelvin.\n",
    "    :param af: The final specific volume in m^3/kg\n",
    "    :param ai: The initial specific volume in m^3/kg\n",
    "\n",
    "    :return: The work done by/on the parcel in Joules/kg.\n",
    "    \"\"\" \n",
    "    rd = 287 \n",
    "    print(\"dq = dw\")\n",
    "    return rd*ti*math.log(af/ai)\n",
    "\n",
    "def alpha_finder(ti, pi):\n",
    "    \"\"\"\n",
    "    alpha_finder finds and returns the specific volume using Charles/Boyles law and an initial temperature and pressure. \n",
    "\n",
    "    :param ti: The initial temperature in Kelvin.\n",
    "    :param pi: The initial pressure in pascals.\n",
    "    \n",
    "    :return: The specific volume of the air parcel in m^3/kg.\n",
    "    \"\"\" \n",
    "    rd = 287 #The Earth atmospheric dry gas constant.\n",
    "    return (rd * ti) / pi \n",
    "\n",
    "def poisson_final_pressure_finder(tf, ti, pi):\n",
    "    \"\"\"\n",
    "     poisson_final_pressure_finder finds a final pressure using Poisson's equation. \n",
    "\n",
    "    :param tf: The final temperature in Kelvin.\n",
    "    :param ti: The initial temperature in Kelvin.\n",
    "    :param pi: The initial pressure in Pascals.\n",
    "\n",
    "    :return: The final pressure in Pascals.\n",
    "    \"\"\" \n",
    "    k = 0.286 \n",
    "    return pi * (tf / ti) ** (1/k)\n",
    "    \n",
    "# Petty 5.8 given problem constants. \n",
    "pressure1 = 60000  # pressure at point 1 in Pa\n",
    "temp1 = 273.15   # temperature at point 1 in Kelvin\n",
    "temp2 = 298.15  # temperature at point 2 after q = 0 in Kelvin\n",
    "pressure3 = 70000  # pressure at point 3 after t = 0 in Pascals\n",
    "temp4 = 273.15   # temperature at point 4 after q = 0 expan in Kelvin\n",
    "\n",
    "#Part a: Find the work and heat from a to b\n",
    "pressure2 = poisson_final_pressure_finder(temp2, temp1, pressure1)\n",
    "#print(pressure2)\n",
    "alpha1 = alpha_finder(273.15, 60000)\n",
    "#print(alpha1)\n",
    "alpha2 = alpha_finder(298.15, pressure2)\n",
    "#print(alpha2)\n",
    "\n",
    "wAB = work_adiabatic(pressure2, 60000, alpha2, alpha1)\n",
    "qAB = 0\n",
    "print(\"A) There are {:.2f} Joules/kg of work done\".format(wAB))\n",
    "\n",
    "#Part b: Find the work and heat from b to c\n",
    "alpha3 = alpha_finder(temp2, pressure3)\n",
    "#print(alpha3)\n",
    "wBC = work_isothermal(temp2, alpha3, alpha2)\n",
    "qBC = wBC\n",
    "print(\"B) There are {:.2f} Joules/kg of work done and heat energy added.\".format(wBC))\n",
    "\n",
    "#Part c: Find the work and heat from c to d\n",
    "temp4 = temp1\n",
    "temp3 = temp2\n",
    "pressure4 = poisson_final_pressure_finder(temp4, temp3, pressure3)\n",
    "pressure4\n",
    "alpha4 = alpha_finder(temp4, pressure4)\n",
    "#alpha4\n",
    "wCD = work_adiabatic(pressure4, pressure3, alpha4, alpha3)\n",
    "qCD = 0\n",
    "print(\"C) There are {:.2f} Joules/kg of work done.\".format(wCD))\n",
    "\n",
    "#Part D: Find the work and heat from D to A.\n",
    "#Since this is an isothermal step, using first law of thermodynamics, dw = dq\n",
    "#We know the alpha4 and alpha1 from previous step\n",
    "wDA = work_isothermal(temp4, alpha1, alpha4)\n",
    "qDA = wDA\n",
    "print(\"D) There are {:.2f} Joules/kg of work done and heat energy added.\\n\".format(wDA))\n",
    "\n",
    "#Part e: calculate total work done and heat added in the cycle.\n",
    "wNet = wAB + wBC + wCD + wDA\n",
    "print(\"E) The cycle had a net work of {:.2f} Joules/kg.\".format(wNet))\n",
    "#Create a list of the heats from the four steps\n",
    "qList = [qAB, qBC, qCD, qDA]\n",
    "#We need to determine where heat is going in and out to calculate the net heat and efficieny. In is positive and out is negative\n",
    "qIn = 0\n",
    "qOut = 0\n",
    "for q in qList:\n",
    "    if (q < 0):\n",
    "        qOut += q\n",
    "    elif (q > 0):\n",
    "        qIn += q\n",
    "\n",
    "#Calculate the net work, qin - qout\n",
    "qNet = qIn + qOut #Added because qOut is positive\n",
    "print(\"E) The cycle had a net heat of {:.2f} Joules/kg.\".format(qNet))\n",
    "\n",
    "#Part f: find the efficiency of the cycle.\n",
    "#Use the formula (Qin - Qout)/Qin * 100 or qNet/qIn *100\n",
    "eff = (qNet / qIn) * 100\n",
    "print(\"\\nF) This cycle has an efficiency of {:.2f}%.\".format(eff))\n"
   ]
  },
  {
   "cell_type": "code",
   "execution_count": 2,
   "id": "484e3636-4101-480b-8701-cf6c43711042",
   "metadata": {},
   "outputs": [],
   "source": [
    "\"\"\"\n",
    "@Authors: Matthew Davies, Jonathan Douglas, Justan Ray Liam Thompson \n",
    "@Version: 2.1.1\n",
    "\"\"\"\n",
    "\n",
    "# Import appropriate Libraries \n",
    "import math \n",
    "\n",
    "# Define the functions that would be used to solve any carnot cycle \n",
    "def work_adiabatic(pf, pi, af, ai): \n",
    "    \"\"\"\n",
    "    work_adiabatic finds the work during an adiabatic gas process using a starting and final pressure and specific volume\n",
    "\n",
    "    :param pf: The final pressure in pascals.\n",
    "    :param pi: The initial pressure in pascals.\n",
    "    :param af: The final specific volume in m^3/kg\n",
    "    :param ai: The initial specific volume in m^3/kg\n",
    "\n",
    "    :return: The work done by/on the parcel in Joules/kg.\n",
    "    \"\"\" \n",
    "    gamma = 1.4 \n",
    "    print(\"dq = 0\")\n",
    "    return (pf*af - pi*ai) / (1 - gamma) \n",
    "    \n",
    "def work_isothermal(ti, af, ai):\n",
    "    \"\"\"\n",
    "    work_isothermal finds the work during an isothermal gas process using a starting and final pressure and specific volume\n",
    "\n",
    "    :param ti: The initial temperature in Kelvin.\n",
    "    :param af: The final specific volume in m^3/kg\n",
    "    :param ai: The initial specific volume in m^3/kg\n",
    "\n",
    "    :return: The work done by/on the parcel in Joules/kg.\n",
    "    \"\"\" \n",
    "    rd = 287 \n",
    "    print(\"dq = dw\")\n",
    "    return rd*ti*math.log(af/ai)\n",
    "\n",
    "def alpha_finder(ti, pi):\n",
    "    \"\"\"\n",
    "    alpha_finder finds and returns the specific volume using Charles/Boyles law and an initial temperature and pressure. \n",
    "\n",
    "    :param ti: The initial temperature in Kelvin.\n",
    "    :param pi: The initial pressure in pascals.\n",
    "    \n",
    "    :return: The specific volume of the air parcel in m^3/kg.\n",
    "    \"\"\" \n",
    "    rd = 287 #The Earth atmospheric dry gas constant.\n",
    "    return (rd * ti) / pi \n",
    "\n",
    "def poisson_final_pressure_finder(tf, ti, pi):\n",
    "    \"\"\"\n",
    "     poisson_final_pressure_finder finds a final pressure using Poisson's equation. \n",
    "\n",
    "    :param tf: The final temperature in Kelvin.\n",
    "    :param ti: The initial temperature in Kelvin.\n",
    "    :param pi: The initial pressure in Pascals.\n",
    "\n",
    "    :return: The final pressure in Pascals.\n",
    "    \"\"\" \n",
    "    k = 0.286 \n",
    "    return pi * (tf / ti) ** (1/k)\n",
    "    \n",
    "# Petty 5.8 given problem constants. \n",
    "pressure1 = 60000  # pressure at point 1 in Pa\n",
    "temp1 = 273.15   # temperature at point 1 in Kelvin\n",
    "temp2 = 298.15  # temperature at point 2 after q = 0 in Kelvin\n",
    "pressure3 = 70000  # pressure at point 3 after t = 0 in Pascals\n",
    "temp4 = 273.15   # temperature at point 4 after q = 0 expan in Kelvin"
   ]
  },
  {
   "cell_type": "code",
   "execution_count": 3,
   "id": "c1a28604-80d6-4bbc-a9bb-14dfa5709636",
   "metadata": {},
   "outputs": [
    {
     "name": "stdout",
     "output_type": "stream",
     "text": [
      "dq = 0\n",
      " A) There are -17937.50 Joules of work done\n"
     ]
    }
   ],
   "source": [
    "#Part a: Find the work and heat from a to b\n",
    "pressure2 = poisson_final_pressure_finder(temp2, temp1, pressure1)\n",
    "#print(pressure2)\n",
    "alpha1 = alpha_finder(273.15, 60000)\n",
    "#print(alpha1)\n",
    "alpha2 = alpha_finder(298.15, pressure2)\n",
    "#print(alpha2)\n",
    "\n",
    "wAB = work_adiabatic(pressure2, 60000, alpha2, alpha1)\n",
    "qAB = 0\n",
    "print(\" A) There are {:.2f} Joules of work done\".format(wAB))"
   ]
  },
  {
   "cell_type": "code",
   "execution_count": 4,
   "id": "9fc13b5c-caee-4f43-b3ca-0ed3dd8f91a2",
   "metadata": {},
   "outputs": [
    {
     "name": "stdout",
     "output_type": "stream",
     "text": [
      "dq = dw\n",
      "B) There are 13011.44 Joules of work done and heat energy added.\n"
     ]
    }
   ],
   "source": [
    "#Part b: Find the work and heat from b to c\n",
    "alpha3 = alpha_finder(temp2, pressure3)\n",
    "#print(alpha3)\n",
    "wBC = work_isothermal(temp2, alpha3, alpha2)\n",
    "qBC = wBC\n",
    "print(\"B) There are {:.2f} Joules of work done and heat energy added.\".format(wBC))"
   ]
  },
  {
   "cell_type": "code",
   "execution_count": 5,
   "id": "6b20ee4f-1009-42af-9e6c-9084b0424422",
   "metadata": {},
   "outputs": [
    {
     "name": "stdout",
     "output_type": "stream",
     "text": [
      "dq = 0\n",
      "C) There are 17937.50 Joules of work done.\n"
     ]
    }
   ],
   "source": [
    "#Part c: Find the work and heat from c to d\n",
    "temp4 = temp1\n",
    "temp3 = temp2\n",
    "pressure4 = poisson_final_pressure_finder(temp4, temp3, pressure3)\n",
    "pressure4\n",
    "alpha4 = alpha_finder(temp4, pressure4)\n",
    "#alpha4\n",
    "wCD = work_adiabatic(pressure4, pressure3, alpha4, alpha3)\n",
    "qCD = 0\n",
    "print(\"C) There are {:.2f} Joules of work done.\".format(wCD))"
   ]
  },
  {
   "cell_type": "code",
   "execution_count": 6,
   "id": "e0234be4-a76b-49e4-b74e-6734184c08e6",
   "metadata": {},
   "outputs": [
    {
     "name": "stdout",
     "output_type": "stream",
     "text": [
      "dq = dw\n",
      "D) There are -11920.43 Joules of work done and heat energy added.\n"
     ]
    }
   ],
   "source": [
    "#Part D: Find the work and heat from D to A.\n",
    "#Since this is an isothermal step, using first law of thermodynamics, dw = dq\n",
    "#We know the alpha4 and alpha1 from previous step\n",
    "wDA = work_isothermal(temp4, alpha1, alpha4)\n",
    "qDA = wDA\n",
    "print(\"D) There are {:.2f} Joules of work done and heat energy added.\".format(wDA))"
   ]
  },
  {
   "cell_type": "code",
   "execution_count": 7,
   "id": "cdec1347-d527-497c-850f-d36311b26760",
   "metadata": {},
   "outputs": [
    {
     "name": "stdout",
     "output_type": "stream",
     "text": [
      "E) The cycle had a net work of 1091.01 Joules.\n",
      "E) The cycle had a net heat of 1091.01 Joules.\n"
     ]
    }
   ],
   "source": [
    "#Part e: calculate total work done and heat added in the cycle.\n",
    "wNet = wAB + wBC + wCD + wDA\n",
    "print(\"E) The cycle had a net work of {:.2f} Joules.\".format(wNet))\n",
    "#Create a list of the heats from the four steps\n",
    "qList = [qAB, qBC, qCD, qDA]\n",
    "#We need to determine where heat is going in and out to calculate the net heat and efficieny. In is positive and out is negative\n",
    "qIn = 0\n",
    "qOut = 0\n",
    "for q in qList:\n",
    "    if (q < 0):\n",
    "        qOut += q\n",
    "    elif (q > 0):\n",
    "        qIn += q\n",
    "\n",
    "#Calculate the net work, qin - qout\n",
    "qNet = qIn + qOut #Added because qOut is positive\n",
    "print(\"E) The cycle had a net heat of {:.2f} Joules.\".format(qNet))"
   ]
  },
  {
   "cell_type": "code",
   "execution_count": 8,
   "id": "6e4a6df4-6261-49e8-b413-5a60102c1b72",
   "metadata": {},
   "outputs": [
    {
     "name": "stdout",
     "output_type": "stream",
     "text": [
      "F) This cycle has an efficiency of 8.39%.\n"
     ]
    }
   ],
   "source": [
    "#Part f: find the efficiency of the cycle.\n",
    "#Use the formula (Qin - Qout)/Qin * 100 or qNet/qIn *100\n",
    "eff = (qNet / qIn) * 100\n",
    "print(\"F) This cycle has an efficiency of {:.2f}%.\".format(eff))"
   ]
  }
 ],
 "metadata": {
  "kernelspec": {
   "display_name": "Python 3 (ipykernel)",
   "language": "python",
   "name": "python3"
  },
  "language_info": {
   "codemirror_mode": {
    "name": "ipython",
    "version": 3
   },
   "file_extension": ".py",
   "mimetype": "text/x-python",
   "name": "python",
   "nbconvert_exporter": "python",
   "pygments_lexer": "ipython3",
   "version": "3.12.7"
  }
 },
 "nbformat": 4,
 "nbformat_minor": 5
}
